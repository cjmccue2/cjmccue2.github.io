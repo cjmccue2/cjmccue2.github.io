{
 "cells": [
  {
   "cell_type": "code",
   "execution_count": 225,
   "id": "d0fce93c",
   "metadata": {},
   "outputs": [],
   "source": [
    "import pandas as pd\n",
    "import bqplot\n",
    "import numpy as np\n",
    "import ipywidgets\n",
    "import matplotlib.pyplot as plt"
   ]
  },
  {
   "cell_type": "code",
   "execution_count": 171,
   "id": "887acba8",
   "metadata": {
    "scrolled": true
   },
   "outputs": [],
   "source": [
    "building = pd.read_csv(\"https://uiuc-ischool-dataviz.github.io/is445_AOUAOG_fall2021/week02/data/building_inventory.csv\", \n",
    "                      na_values = {'Square Footage': 0,\n",
    "                                  'County': '', \n",
    "                                  'Year Acquired': 0,\n",
    "                                  'Year Acquired': '-'})"
   ]
  },
  {
   "cell_type": "code",
   "execution_count": 50,
   "id": "ceff40de",
   "metadata": {},
   "outputs": [],
   "source": [
    "bqplot.GridHeatMap?"
   ]
  },
  {
   "cell_type": "code",
   "execution_count": 143,
   "id": "3734ac8c",
   "metadata": {},
   "outputs": [],
   "source": [
    "plt.bar?"
   ]
  },
  {
   "cell_type": "code",
   "execution_count": 160,
   "id": "73bff449",
   "metadata": {},
   "outputs": [],
   "source": [
    "np.histogram2d?"
   ]
  },
  {
   "cell_type": "code",
   "execution_count": 172,
   "id": "5e7d422b",
   "metadata": {},
   "outputs": [],
   "source": [
    "np.linspace?"
   ]
  },
  {
   "cell_type": "code",
   "execution_count": 167,
   "id": "4987b840",
   "metadata": {},
   "outputs": [],
   "source": [
    "np.unique?"
   ]
  },
  {
   "cell_type": "code",
   "execution_count": 186,
   "id": "f9695a64",
   "metadata": {},
   "outputs": [],
   "source": [
    "bqplot.Hist?"
   ]
  },
  {
   "cell_type": "code",
   "execution_count": 105,
   "id": "a5fb225d",
   "metadata": {},
   "outputs": [],
   "source": [
    "bqplot.LinearScale?"
   ]
  },
  {
   "cell_type": "code",
   "execution_count": 235,
   "id": "f2ab4d8d",
   "metadata": {
    "collapsed": true
   },
   "outputs": [
    {
     "data": {
      "text/plain": [
       "array([[0.5462648 , 0.43916303, 0.60602186, 0.40646956, 0.53285898,\n",
       "        0.59173789, 0.47794975, 0.62937524, 0.40627515, 0.31947913,\n",
       "        0.57295694, 0.53141006, 0.42105089, 0.43534774, 0.4238196 ,\n",
       "        0.41271535, 0.47172583, 0.54036917, 0.50836746, 0.41029522],\n",
       "       [0.48517796, 0.4063588 , 0.56573295, 0.50691769, 0.40318977,\n",
       "        0.61109984, 0.5328454 , 0.5142737 , 0.53729666, 0.49736046,\n",
       "        0.5124886 , 0.54895823, 0.35398902, 0.55189577, 0.51611725,\n",
       "        0.48148873, 0.53331849, 0.5329567 , 0.54340509, 0.61346905],\n",
       "       [0.44795863, 0.50278209, 0.50519688, 0.5138114 , 0.60110494,\n",
       "        0.51080117, 0.392381  , 0.49906836, 0.51139484, 0.53225511,\n",
       "        0.60118176, 0.54481828, 0.5025358 , 0.45758491, 0.39207042,\n",
       "        0.55262165, 0.41887286, 0.45794924, 0.70435588, 0.49157674],\n",
       "       [0.63303875, 0.50878276, 0.48819607, 0.58970014, 0.53448074,\n",
       "        0.56075296, 0.46551659, 0.57374504, 0.53380861, 0.44472662,\n",
       "        0.51815097, 0.36585509, 0.42318909, 0.46795033, 0.42901011,\n",
       "        0.42102777, 0.62601012, 0.47985249, 0.46571796, 0.55087891],\n",
       "       [0.48919107, 0.54285687, 0.38231084, 0.42172981, 0.49852594,\n",
       "        0.43495377, 0.45206479, 0.56665876, 0.50758596, 0.56415881,\n",
       "        0.46690623, 0.59378758, 0.54443022, 0.47489844, 0.50541348,\n",
       "        0.27364564, 0.48814616, 0.45136386, 0.46523625, 0.49032724],\n",
       "       [0.47203261, 0.39381443, 0.5091977 , 0.50620365, 0.50421313,\n",
       "        0.53278911, 0.47263281, 0.60698903, 0.53742677, 0.41794815,\n",
       "        0.46372771, 0.55363356, 0.45447899, 0.44938599, 0.55432925,\n",
       "        0.57669554, 0.47107061, 0.49920697, 0.45566399, 0.54523842],\n",
       "       [0.41833724, 0.38678086, 0.41024899, 0.44081363, 0.45777896,\n",
       "        0.54425988, 0.44169464, 0.42604647, 0.50005798, 0.56132566,\n",
       "        0.49676883, 0.41714766, 0.523648  , 0.56235253, 0.45410432,\n",
       "        0.50040086, 0.53331973, 0.49590397, 0.4413838 , 0.48503613],\n",
       "       [0.49027967, 0.43678411, 0.47002788, 0.54860811, 0.51552009,\n",
       "        0.50423894, 0.41042573, 0.41635569, 0.58237288, 0.53023076,\n",
       "        0.54702399, 0.47769383, 0.4396265 , 0.42487013, 0.39145957,\n",
       "        0.48190255, 0.49779912, 0.4690876 , 0.55456933, 0.46285685],\n",
       "       [0.53973082, 0.52971705, 0.51113495, 0.51869572, 0.52474281,\n",
       "        0.48770969, 0.55369092, 0.44865069, 0.58612956, 0.41415015,\n",
       "        0.51816784, 0.55838211, 0.53925786, 0.37249554, 0.51064468,\n",
       "        0.37460511, 0.54821248, 0.41326097, 0.57682464, 0.53418724],\n",
       "       [0.39220241, 0.49555754, 0.60639371, 0.36414028, 0.54443236,\n",
       "        0.64775892, 0.50259156, 0.51931215, 0.3724985 , 0.64456945,\n",
       "        0.43836551, 0.57099167, 0.63893926, 0.44856014, 0.59004949,\n",
       "        0.47114491, 0.56159919, 0.51353846, 0.52903451, 0.56375849],\n",
       "       [0.44767754, 0.54335967, 0.51052518, 0.4599997 , 0.54803326,\n",
       "        0.47217355, 0.6080961 , 0.53014338, 0.65377719, 0.44156795,\n",
       "        0.468515  , 0.4492665 , 0.59404103, 0.5087137 , 0.53607615,\n",
       "        0.55922552, 0.5279301 , 0.50832893, 0.51958522, 0.50906431],\n",
       "       [0.57728214, 0.53124563, 0.52984809, 0.49566723, 0.39591743,\n",
       "        0.45013501, 0.44083459, 0.53382367, 0.53831166, 0.56896172,\n",
       "        0.52690523, 0.41817279, 0.51952759, 0.44475997, 0.49347812,\n",
       "        0.45315836, 0.49984435, 0.57796475, 0.55408735, 0.56458849],\n",
       "       [0.51948437, 0.46479516, 0.43914536, 0.45457622, 0.49875686,\n",
       "        0.51353978, 0.44956071, 0.51011882, 0.54865904, 0.62136302,\n",
       "        0.45798535, 0.52656914, 0.48709728, 0.45686994, 0.59265443,\n",
       "        0.52374344, 0.47398361, 0.46840105, 0.51714902, 0.50798042],\n",
       "       [0.55904725, 0.5373424 , 0.58500862, 0.51031138, 0.42754711,\n",
       "        0.51200105, 0.58672388, 0.54545146, 0.6569918 , 0.40229525,\n",
       "        0.45867834, 0.58619614, 0.59626862, 0.6090366 , 0.59098324,\n",
       "        0.53173947, 0.53264591, 0.54915205, 0.51423924, 0.396426  ],\n",
       "       [0.31675816, 0.4802339 , 0.51850155, 0.3806501 , 0.36164334,\n",
       "        0.47957973, 0.48678759, 0.47906183, 0.44613806, 0.61829342,\n",
       "        0.50879363, 0.61098521, 0.49091842, 0.46675909, 0.5061684 ,\n",
       "        0.46880979, 0.52444644, 0.43103258, 0.51383593, 0.43959896],\n",
       "       [0.47678232, 0.38969283, 0.45014223, 0.37139218, 0.45402628,\n",
       "        0.60755046, 0.38237731, 0.5939441 , 0.57065469, 0.54604402,\n",
       "        0.45668703, 0.60489236, 0.43636564, 0.50933262, 0.49677301,\n",
       "        0.57152121, 0.58075599, 0.42323931, 0.59504838, 0.52883934],\n",
       "       [0.50026379, 0.57528623, 0.59583459, 0.56898397, 0.50128457,\n",
       "        0.45155301, 0.39627376, 0.60115054, 0.43411599, 0.59746416,\n",
       "        0.53136655, 0.43323145, 0.52328599, 0.50240634, 0.49043106,\n",
       "        0.47106686, 0.41607854, 0.41502735, 0.55287637, 0.56061547],\n",
       "       [0.4488947 , 0.44084055, 0.51745726, 0.48995929, 0.51960458,\n",
       "        0.4478782 , 0.52450555, 0.43152695, 0.42466535, 0.47705341,\n",
       "        0.51037914, 0.50657514, 0.47923671, 0.58735494, 0.44440697,\n",
       "        0.4352525 , 0.59910212, 0.43882878, 0.50178206, 0.54936341],\n",
       "       [0.49905831, 0.41646089, 0.40689577, 0.53605433, 0.55156717,\n",
       "        0.44829935, 0.54861108, 0.48488519, 0.35325832, 0.46733215,\n",
       "        0.43244748, 0.4640632 , 0.57515   , 0.45402552, 0.48982918,\n",
       "        0.55849888, 0.6085164 , 0.50661537, 0.58512995, 0.57172403],\n",
       "       [0.57000048, 0.47893949, 0.52167295, 0.45740167, 0.57562855,\n",
       "        0.44124218, 0.45522674, 0.45594341, 0.5334722 , 0.5184783 ,\n",
       "        0.52670644, 0.49641354, 0.44284189, 0.39577666, 0.46710531,\n",
       "        0.57864887, 0.51179791, 0.46656118, 0.46129657, 0.553621  ]])"
      ]
     },
     "execution_count": 235,
     "metadata": {},
     "output_type": "execute_result"
    }
   ],
   "source": [
    "data = np.random.random((20,20,20))\n",
    "data.mean(axis=2)"
   ]
  },
  {
   "cell_type": "code",
   "execution_count": 238,
   "id": "dedfe2e1",
   "metadata": {},
   "outputs": [
    {
     "data": {
      "application/vnd.jupyter.widget-view+json": {
       "model_id": "b463c41196624a39be5d0a2341e0c599",
       "version_major": 2,
       "version_minor": 0
      },
      "text/plain": [
       "VBox(children=(Label(value='mean'), HBox(children=(Figure(axes=[ColorAxis(orientation='vertical', scale=ColorS…"
      ]
     },
     "metadata": {},
     "output_type": "display_data"
    }
   ],
   "source": [
    "## HISTOGRAM\n",
    "\n",
    "# data\n",
    "i,j = 1,1\n",
    "\n",
    "# scales\n",
    "x_sch = bqplot.LinearScale()\n",
    "y_sch = bqplot.LinearScale()\n",
    "\n",
    "# axis\n",
    "x_axh = bqplot.Axis(scale=x_sch, label = 'value of 3rd axis')\n",
    "y_axh = bqplot.Axis(scale=y_sch, label = 'Frequency', orientation = 'vertical')\n",
    "\n",
    "# marks - hist\n",
    "hist = bqplot.Hist(sample=data[i,j,:],\n",
    "                  scales = {'sample':x_sch, 'count':y_sch}, bins = 7)\n",
    "\n",
    "# fig\n",
    "histfig = bqplot.Figure(marks=[hist], axes = [x_axh, y_axh])\n",
    "\n",
    "\n",
    "\n",
    "\n",
    "## HEATMAP\n",
    "\n",
    "# scales\n",
    "col_sc = bqplot.ColorScale(scheme = 'Blues')\n",
    "x_sc = bqplot.OrdinalScale()\n",
    "y_sch = bqplot.OrdinalScale()\n",
    "\n",
    "# axis\n",
    "ax_col = bqplot.ColorAxis(scale=col_sc, orientation='vertical', side = 'right')\n",
    "ax_x = bqplot.Axis(scale=x_sc)\n",
    "ax_y = bqplot.Axis(scale=y_sc, orientation='vertical')\n",
    "\n",
    "# mark - heat\n",
    "heat = bqplot.GridHeatMap(color = data.mean(axis=2),\n",
    "                         scales={'color':col_sc, 'row':y_sc, 'column':x_sc},\n",
    "                         interactions={'click':'select'},\n",
    "                         anchor_style={'fill':'red'})\n",
    "\n",
    "# interactions\n",
    "mySelectedLabel = ipywidgets.Label()\n",
    "mySelectedLabel.value = 'mean'\n",
    "def on_selected(change):\n",
    "    if len(change['owner'].selected) == 1:\n",
    "        i,j = change['owner'].selected[0]\n",
    "        v = data[i,j,:].mean()\n",
    "        mySelectedLabel.value = 'mean value='+str(v)\n",
    "        hist.sample = data[i,j,:]\n",
    "\n",
    "heat.observe(on_selected, 'selected')\n",
    "\n",
    "# fig\n",
    "fig = bqplot.Figure(marks = [heat], axes=[ax_col, ax_x, ax_y])\n",
    "\n",
    "\n",
    "\n",
    "\n",
    "\n",
    "## DASHBOARD\n",
    "fig.layout.min_width='500px'\n",
    "histfig.layout.min_width='500px'\n",
    "figures = ipywidgets.HBox([fig, histfig])\n",
    "\n",
    "myDash = ipywidgets.VBox([mySelectedLabel, figures])\n",
    "myDash"
   ]
  },
  {
   "cell_type": "markdown",
   "id": "6634f039",
   "metadata": {},
   "source": [
    "## write up"
   ]
  },
  {
   "cell_type": "markdown",
   "id": "c7f5d1e1",
   "metadata": {},
   "source": [
    "I had more difficulties completing this weeks assignment. Where I ran into trouble was in data transformations and rescalings. In the first few days I spent working on this assignment, all I did was try and find a way to alter the building dataset. Here, although I felt I had a good grasp on the concepts we have been learning in class (interactivity with ipywidgets, bqplot, linking, dashboards) my lack of programming skills were exposed. \n",
    "\n",
    "\n",
    "I first attempted to combine the required fields we were to use from the buildings dataset into a DataFrame. I tried this thinking I could then build a histogram from said data. Where I got stuck here was transforming my new DataFrame from a list of strings into float or integer data. While seemingly going in circles with this approach, I then switched over to arrays. At first, I tried using 2 2d arrays: one containing the required x and y fields for the histogram (year and square footage acquired), and one containing the row and column fields for the heat map (county and agency name). With this approach, I got stuck trying to create the edges for the county and agency name fields. I looked through the prep and in class notebooks and could only find examples with numerical data, whereas the approach I was attempting used categorical data. After attempting to find a solution to this problem of mine, I switched up my approach one last time. I tried using a 3d array instead. Honestly, I have never worked with 3d arrays before and it was much more of a learning curve than I was expecting. I wasn't exactly sure how to treat the data in this format, and again, I was unable to figure what my problem was. \n",
    "\n",
    "\n",
    "Although I was unable to transform/rescale the buildings data properly for the assignment, I still wanted to make the dashboard for I felt it would be good practice for me. As shown in class, I used a 3d array consisting of random variables in place of the buildings data. If I were to use the buildings data, I would have filtered out the na values as shown above before conducting the analysis. This includes the 0 values in the Square Footage and Year Acquired columns, as well as the blank values in the County column. I then would have constructed a histogram from this data and linked it to a heatmap comprised of the County and Agency Name fields. I didn't really give myself extra time to explore aesthetic options, for I am writing this at 2:30 the night before its due, but I would have loved to explore what options are available to me. I always enjoyed improving things I make and exploring the aesthetic variety thats available is right up my alley.\n",
    "\n",
    "\n",
    "\n",
    "As mentioned prior, my programming skills were exposed. I understand turning in this assignment as is will reflect negatively on my grade, but I honestly love the challenge and am very motivated to continue developing in the realm of coding. I feel as though with each assignment I attempt I'm learning a great deal, and that means more to me than any grade I earn. I am expecting this class to a big challenge for me, but I'm more than willing to accept that challenge!"
   ]
  }
 ],
 "metadata": {
  "kernelspec": {
   "display_name": "Python 3 (ipykernel)",
   "language": "python",
   "name": "python3"
  },
  "language_info": {
   "codemirror_mode": {
    "name": "ipython",
    "version": 3
   },
   "file_extension": ".py",
   "mimetype": "text/x-python",
   "name": "python",
   "nbconvert_exporter": "python",
   "pygments_lexer": "ipython3",
   "version": "3.7.10"
  }
 },
 "nbformat": 4,
 "nbformat_minor": 5
}
